{
 "cells": [
  {
   "cell_type": "code",
   "execution_count": null,
   "metadata": {},
   "outputs": [],
   "source": [
    "import matplotlib as mpl\n",
    "import matplotlib.pyplot as plt\n",
    "import pandas as pd\n",
    "\n",
    "mpl.rcParams[\"legend.fontsize\"] = 18\n",
    "\n",
    "mpl.rcParams[\"font.size\"] = 14\n",
    "mpl.rcParams[\"axes.labelsize\"] = 18\n",
    "mpl.rcParams[\"lines.linewidth\"] = 2.0\n",
    "\n",
    "cm = plt.cm.tab10"
   ]
  },
  {
   "cell_type": "markdown",
   "metadata": {},
   "source": [
    "### Чтение и подготовка данных\n",
    "\n",
    "Мы запускали программу несколько раз при одних и тех же параметрах и можем вычислить усреднённое время работы."
   ]
  },
  {
   "cell_type": "code",
   "execution_count": null,
   "metadata": {},
   "outputs": [],
   "source": [
    "data = pd.read_csv(\"cache.log\", sep='\\s+', index_col=[\"line_size\", \"n\"])\n",
    "methods = data.columns.values\n",
    "\n",
    "mean = data.groupby([\"line_size\", \"n\"]).mean().reset_index()\n",
    "mean  # print(mean)"
   ]
  },
  {
   "cell_type": "code",
   "execution_count": null,
   "metadata": {},
   "outputs": [],
   "source": [
    "line_size_values = mean.groupby(\"line_size\").first().index.values\n",
    "line_size_values  # print(\"line_size:\", line_size_values)"
   ]
  },
  {
   "cell_type": "markdown",
   "metadata": {},
   "source": [
    "### Сечение: `line_size = const`"
   ]
  },
  {
   "cell_type": "code",
   "execution_count": null,
   "metadata": {},
   "outputs": [],
   "source": [
    "line_size = 4096\n",
    "\n",
    "slice = mean[mean[\"line_size\"] == line_size]\n",
    "\n",
    "ax = slice.plot(x=\"n\", y=methods, logx=True, logy=True, style=\"-o\",\n",
    "                figsize=(8, 6), grid=True, legend=True, markerfacecolor=\"white\")\n",
    "ax.set_ylabel(r\"$time, ms$\", position=(None, 1.0),\n",
    "              rotation=0, verticalalignment=\"top\", horizontalalignment=\"right\")\n",
    "ax.set_xlabel(r\"n\", position=(0.98, None), labelpad=20,\n",
    "              verticalalignment=\"bottom\", horizontalalignment=\"right\")\n",
    "ax.text(0.5, 0.1, f\"line size = {line_size}\",\n",
    "        fontsize=22, transform=ax.transAxes)\n",
    "\n",
    "ax.figure.savefig(\"cache_impact_by_n\", bbox_inches=\"tight\")"
   ]
  },
  {
   "cell_type": "markdown",
   "metadata": {},
   "source": [
    "### Сечение: `n = const`"
   ]
  },
  {
   "cell_type": "code",
   "execution_count": null,
   "metadata": {},
   "outputs": [],
   "source": [
    "n = 500_000\n",
    "\n",
    "slice = mean[mean[\"n\"] == n]\n",
    "\n",
    "ax = slice.plot(x=\"line_size\", y=methods, logx=True, logy=True, style=\"-o\",\n",
    "                figsize=(8, 6), grid=True, legend=True, markerfacecolor=\"white\")\n",
    "ax.set_ylabel(r\"$time, ms$\", position=(None, 1.0),\n",
    "              rotation=0, verticalalignment=\"top\", horizontalalignment=\"right\")\n",
    "ax.set_xlabel(r\"line size\", position=(0.98, None), labelpad=20,\n",
    "              verticalalignment=\"bottom\", horizontalalignment=\"right\")\n",
    "ax.text(0.5, 0.25, f\"n = {n}\",\n",
    "        fontsize=22, transform=ax.transAxes)\n",
    "\n",
    "ax.figure.savefig(\"cache_impact_by_line_size\", bbox_inches=\"tight\")"
   ]
  },
  {
   "cell_type": "markdown",
   "metadata": {},
   "source": [
    "### Поверхности в 3D"
   ]
  },
  {
   "cell_type": "code",
   "execution_count": null,
   "metadata": {},
   "outputs": [],
   "source": [
    "X, Y = mean[\"n\"], mean[\"line_size\"]\n",
    "ax = plt.figure(figsize=(28, 28)).add_subplot(projection=\"3d\")\n",
    "ax.set_proj_type('ortho')\n",
    "for func in methods:\n",
    "    ax.plot_trisurf(X, Y, mean[func], linewidth=0, antialiased=True)\n",
    "    ax.scatter(X, Y, mean[func], linewidth=1, c='k')\n",
    "\n",
    "ax.set_xlabel(\"n\", labelpad=20)\n",
    "ax.set_ylabel(\"line size\", labelpad=20)\n",
    "ax.set_zlabel(\"time, ms\", labelpad=10)\n",
    "\n",
    "ax.grid(False)\n",
    "for axis in (ax.xaxis, ax.yaxis, ax.zaxis):\n",
    "    axis.pane.set_visible(False)\n",
    "\n",
    "# ax.view_init(elev=30, azim=-40)\n",
    "\n",
    "ax.figure.savefig(\"cache_impact\", bbox_inches=\"tight\")"
   ]
  },
  {
   "cell_type": "code",
   "execution_count": null,
   "metadata": {},
   "outputs": [],
   "source": []
  }
 ],
 "metadata": {
  "jupytext": {
   "formats": "ipynb,py"
  },
  "kernelspec": {
   "display_name": "Python 3 (ipykernel)",
   "language": "python",
   "name": "python3"
  },
  "language_info": {
   "codemirror_mode": {
    "name": "ipython",
    "version": 3
   },
   "file_extension": ".py",
   "mimetype": "text/x-python",
   "name": "python",
   "nbconvert_exporter": "python",
   "pygments_lexer": "ipython3",
   "version": "3.11.8"
  }
 },
 "nbformat": 4,
 "nbformat_minor": 4
}
